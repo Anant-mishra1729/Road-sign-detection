{
  "nbformat": 4,
  "nbformat_minor": 0,
  "metadata": {
    "colab": {
      "name": "Road-sign-test.ipynb",
      "provenance": []
    },
    "kernelspec": {
      "name": "python3",
      "display_name": "Python 3"
    },
    "language_info": {
      "name": "python"
    }
  },
  "cells": [
    {
      "cell_type": "code",
      "execution_count": 1,
      "metadata": {
        "colab": {
          "base_uri": "https://localhost:8080/"
        },
        "id": "zQB28WhVji5h",
        "outputId": "3d7b7e98-1724-41bc-d8db-b3e4a385f36c"
      },
      "outputs": [
        {
          "output_type": "stream",
          "name": "stdout",
          "text": [
            "Cloning into 'yolov5'...\n",
            "remote: Enumerating objects: 12467, done.\u001b[K\n",
            "remote: Counting objects: 100% (20/20), done.\u001b[K\n",
            "remote: Compressing objects: 100% (17/17), done.\u001b[K\n",
            "remote: Total 12467 (delta 7), reused 9 (delta 3), pack-reused 12447\u001b[K\n",
            "Receiving objects: 100% (12467/12467), 12.21 MiB | 11.03 MiB/s, done.\n",
            "Resolving deltas: 100% (8598/8598), done.\n",
            "/content/yolov5\n",
            "HEAD is now at 886f1c0 DDP after autoanchor reorder (#2421)\n"
          ]
        }
      ],
      "source": [
        "# clone YOLOv5 repository\n",
        "!git clone https://github.com/ultralytics/yolov5  # clone repo\n",
        "%cd yolov5\n",
        "!git reset --hard 886f1c03d839575afecb059accf74296fad395b6b"
      ]
    },
    {
      "cell_type": "code",
      "source": [
        "!pwd"
      ],
      "metadata": {
        "colab": {
          "base_uri": "https://localhost:8080/"
        },
        "id": "1TYjDSQOk84G",
        "outputId": "cf300edf-f16e-4f43-8233-3b66bd1bff7a"
      },
      "execution_count": 3,
      "outputs": [
        {
          "output_type": "stream",
          "name": "stdout",
          "text": [
            "/content/yolov5\n"
          ]
        }
      ]
    },
    {
      "cell_type": "code",
      "source": [
        "!pip install -qr requirements.txt"
      ],
      "metadata": {
        "colab": {
          "base_uri": "https://localhost:8080/"
        },
        "id": "IlRnjxyck_Wq",
        "outputId": "54c72730-e3db-4872-d1d8-d29924e03af7"
      },
      "execution_count": 4,
      "outputs": [
        {
          "output_type": "stream",
          "name": "stdout",
          "text": [
            "\u001b[?25l\r\u001b[K     |▌                               | 10 kB 18.2 MB/s eta 0:00:01\r\u001b[K     |█                               | 20 kB 11.2 MB/s eta 0:00:01\r\u001b[K     |█▋                              | 30 kB 8.5 MB/s eta 0:00:01\r\u001b[K     |██▏                             | 40 kB 3.6 MB/s eta 0:00:01\r\u001b[K     |██▊                             | 51 kB 3.6 MB/s eta 0:00:01\r\u001b[K     |███▎                            | 61 kB 4.3 MB/s eta 0:00:01\r\u001b[K     |███▉                            | 71 kB 4.5 MB/s eta 0:00:01\r\u001b[K     |████▍                           | 81 kB 4.5 MB/s eta 0:00:01\r\u001b[K     |█████                           | 92 kB 5.1 MB/s eta 0:00:01\r\u001b[K     |█████▌                          | 102 kB 3.9 MB/s eta 0:00:01\r\u001b[K     |██████                          | 112 kB 3.9 MB/s eta 0:00:01\r\u001b[K     |██████▋                         | 122 kB 3.9 MB/s eta 0:00:01\r\u001b[K     |███████▏                        | 133 kB 3.9 MB/s eta 0:00:01\r\u001b[K     |███████▊                        | 143 kB 3.9 MB/s eta 0:00:01\r\u001b[K     |████████▎                       | 153 kB 3.9 MB/s eta 0:00:01\r\u001b[K     |████████▉                       | 163 kB 3.9 MB/s eta 0:00:01\r\u001b[K     |█████████▍                      | 174 kB 3.9 MB/s eta 0:00:01\r\u001b[K     |██████████                      | 184 kB 3.9 MB/s eta 0:00:01\r\u001b[K     |██████████▍                     | 194 kB 3.9 MB/s eta 0:00:01\r\u001b[K     |███████████                     | 204 kB 3.9 MB/s eta 0:00:01\r\u001b[K     |███████████▌                    | 215 kB 3.9 MB/s eta 0:00:01\r\u001b[K     |████████████                    | 225 kB 3.9 MB/s eta 0:00:01\r\u001b[K     |████████████▋                   | 235 kB 3.9 MB/s eta 0:00:01\r\u001b[K     |█████████████▏                  | 245 kB 3.9 MB/s eta 0:00:01\r\u001b[K     |█████████████▊                  | 256 kB 3.9 MB/s eta 0:00:01\r\u001b[K     |██████████████▎                 | 266 kB 3.9 MB/s eta 0:00:01\r\u001b[K     |██████████████▉                 | 276 kB 3.9 MB/s eta 0:00:01\r\u001b[K     |███████████████▍                | 286 kB 3.9 MB/s eta 0:00:01\r\u001b[K     |████████████████                | 296 kB 3.9 MB/s eta 0:00:01\r\u001b[K     |████████████████▌               | 307 kB 3.9 MB/s eta 0:00:01\r\u001b[K     |█████████████████               | 317 kB 3.9 MB/s eta 0:00:01\r\u001b[K     |█████████████████▋              | 327 kB 3.9 MB/s eta 0:00:01\r\u001b[K     |██████████████████▏             | 337 kB 3.9 MB/s eta 0:00:01\r\u001b[K     |██████████████████▊             | 348 kB 3.9 MB/s eta 0:00:01\r\u001b[K     |███████████████████▎            | 358 kB 3.9 MB/s eta 0:00:01\r\u001b[K     |███████████████████▉            | 368 kB 3.9 MB/s eta 0:00:01\r\u001b[K     |████████████████████▍           | 378 kB 3.9 MB/s eta 0:00:01\r\u001b[K     |████████████████████▉           | 389 kB 3.9 MB/s eta 0:00:01\r\u001b[K     |█████████████████████▍          | 399 kB 3.9 MB/s eta 0:00:01\r\u001b[K     |██████████████████████          | 409 kB 3.9 MB/s eta 0:00:01\r\u001b[K     |██████████████████████▌         | 419 kB 3.9 MB/s eta 0:00:01\r\u001b[K     |███████████████████████         | 430 kB 3.9 MB/s eta 0:00:01\r\u001b[K     |███████████████████████▋        | 440 kB 3.9 MB/s eta 0:00:01\r\u001b[K     |████████████████████████▏       | 450 kB 3.9 MB/s eta 0:00:01\r\u001b[K     |████████████████████████▊       | 460 kB 3.9 MB/s eta 0:00:01\r\u001b[K     |█████████████████████████▎      | 471 kB 3.9 MB/s eta 0:00:01\r\u001b[K     |█████████████████████████▉      | 481 kB 3.9 MB/s eta 0:00:01\r\u001b[K     |██████████████████████████▍     | 491 kB 3.9 MB/s eta 0:00:01\r\u001b[K     |███████████████████████████     | 501 kB 3.9 MB/s eta 0:00:01\r\u001b[K     |███████████████████████████▌    | 512 kB 3.9 MB/s eta 0:00:01\r\u001b[K     |████████████████████████████    | 522 kB 3.9 MB/s eta 0:00:01\r\u001b[K     |████████████████████████████▋   | 532 kB 3.9 MB/s eta 0:00:01\r\u001b[K     |█████████████████████████████▏  | 542 kB 3.9 MB/s eta 0:00:01\r\u001b[K     |█████████████████████████████▊  | 552 kB 3.9 MB/s eta 0:00:01\r\u001b[K     |██████████████████████████████▎ | 563 kB 3.9 MB/s eta 0:00:01\r\u001b[K     |██████████████████████████████▊ | 573 kB 3.9 MB/s eta 0:00:01\r\u001b[K     |███████████████████████████████▎| 583 kB 3.9 MB/s eta 0:00:01\r\u001b[K     |███████████████████████████████▉| 593 kB 3.9 MB/s eta 0:00:01\r\u001b[K     |████████████████████████████████| 596 kB 3.9 MB/s \n",
            "\u001b[?25h"
          ]
        }
      ]
    },
    {
      "cell_type": "code",
      "source": [
        "weights_path = \"/content/drive/MyDrive/best.pt\""
      ],
      "metadata": {
        "id": "XnCedTI0lPai"
      },
      "execution_count": 6,
      "outputs": []
    },
    {
      "cell_type": "code",
      "source": [
        "!python detect.py --weights \"/content/drive/MyDrive/best.pt\" --source stop.jpg"
      ],
      "metadata": {
        "colab": {
          "base_uri": "https://localhost:8080/"
        },
        "id": "olL-fgPNllfk",
        "outputId": "58249261-0e08-44be-b066-96bab3f6ea43"
      },
      "execution_count": 8,
      "outputs": [
        {
          "output_type": "stream",
          "name": "stdout",
          "text": [
            "Namespace(agnostic_nms=False, augment=False, classes=None, conf_thres=0.25, device='', exist_ok=False, img_size=640, iou_thres=0.45, name='exp', project='runs/detect', save_conf=False, save_txt=False, source='stop.jpg', update=False, view_img=False, weights=['/content/drive/MyDrive/best.pt'])\n",
            "YOLOv5 v4.0-126-g886f1c0 torch 1.11.0+cu113 CPU\n",
            "\n",
            "Fusing layers... \n",
            "/usr/local/lib/python3.7/dist-packages/torch/functional.py:568: UserWarning: torch.meshgrid: in an upcoming release, it will be required to pass the indexing argument. (Triggered internally at  ../aten/src/ATen/native/TensorShape.cpp:2228.)\n",
            "  return _VF.meshgrid(tensors, **kwargs)  # type: ignore[attr-defined]\n",
            "Model Summary: 232 layers, 7254609 parameters, 0 gradients, 16.8 GFLOPS\n",
            "image 1/1 /content/yolov5/stop.jpg: 384x640 1 stop, Done. (0.407s)\n",
            "Results saved to runs/detect/exp2\n",
            "Done. (0.494s)\n"
          ]
        }
      ]
    },
    {
      "cell_type": "code",
      "source": [
        ""
      ],
      "metadata": {
        "id": "XRqnlq5YmqH0"
      },
      "execution_count": null,
      "outputs": []
    }
  ]
}